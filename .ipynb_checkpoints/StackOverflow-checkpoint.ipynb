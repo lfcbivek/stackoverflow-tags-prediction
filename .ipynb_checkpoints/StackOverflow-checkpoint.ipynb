{
 "cells": [
  {
   "cell_type": "code",
   "execution_count": 0,
   "metadata": {
    "colab": {},
    "colab_type": "code",
    "id": "QWs6YcvR_Xlt"
   },
   "outputs": [],
   "source": [
    "import pandas as pd"
   ]
  },
  {
   "cell_type": "code",
   "execution_count": 0,
   "metadata": {
    "colab": {},
    "colab_type": "code",
    "id": "CdheeJLMAsWB"
   },
   "outputs": [],
   "source": [
    "data = pd.read_csv('stack-overflow-data.csv')"
   ]
  },
  {
   "cell_type": "code",
   "execution_count": 3,
   "metadata": {
    "colab": {
     "base_uri": "https://localhost:8080/",
     "height": 54
    },
    "colab_type": "code",
    "id": "x-Dh--AWAyZU",
    "outputId": "21d407a7-1b04-45f8-a747-79f516d312ca"
   },
   "outputs": [
    {
     "data": {
      "text/plain": [
       "'permanently hide bottom bar  i am working on custom screen lock app where we need to full screen view hiding the top and bottom bars completely. the app is for android phones only and not tablets. i achieved this partially by using immersive mode but the issue is the bottom bar &amp; top appears for few seconds on touching bottom or top of the screen.    below is the code in my activity to do this :   <pre><code>final int flags = view.system_ui_flag_layout_stable                 | view.system_ui_flag_layout_hide_navigation                 | view.system_ui_flag_layout_fullscreen                 | view.system_ui_flag_hide_navigation                 | view.system_ui_flag_fullscreen                 | view.system_ui_flag_immersive_sticky; getwindow().getdecorview().setsystemuivisibility(flags); </code></pre>   i have tried various options but unable to hide the bars permanently. please advise.'"
      ]
     },
     "execution_count": 3,
     "metadata": {
      "tags": []
     },
     "output_type": "execute_result"
    }
   ],
   "source": [
    "data['post'][200]"
   ]
  },
  {
   "cell_type": "code",
   "execution_count": 0,
   "metadata": {
    "colab": {},
    "colab_type": "code",
    "id": "302q8tfHAzGQ"
   },
   "outputs": [],
   "source": [
    "import matplotlib as plt\n",
    "%matplotlib inline"
   ]
  },
  {
   "cell_type": "code",
   "execution_count": 5,
   "metadata": {
    "colab": {
     "base_uri": "https://localhost:8080/",
     "height": 85
    },
    "colab_type": "code",
    "id": "445_hqDQBLn9",
    "outputId": "4ab64701-ec33-4329-91bc-32b247b5ac4c"
   },
   "outputs": [
    {
     "data": {
      "text/plain": [
       "array(['c#', 'asp.net', 'objective-c', '.net', 'python', 'angularjs',\n",
       "       'iphone', 'ruby-on-rails', 'ios', 'c', 'sql', 'java', 'jquery',\n",
       "       'css', 'c++', 'php', 'android', 'mysql', 'javascript', 'html'],\n",
       "      dtype=object)"
      ]
     },
     "execution_count": 5,
     "metadata": {
      "tags": []
     },
     "output_type": "execute_result"
    }
   ],
   "source": [
    "\n",
    "data.tags.unique()"
   ]
  },
  {
   "cell_type": "code",
   "execution_count": 6,
   "metadata": {
    "colab": {
     "base_uri": "https://localhost:8080/",
     "height": 170
    },
    "colab_type": "code",
    "id": "Gns_Uy_sBV9S",
    "outputId": "259970bf-ee48-4dac-f179-f01720a533b9"
   },
   "outputs": [
    {
     "name": "stdout",
     "output_type": "stream",
     "text": [
      "<class 'pandas.core.frame.DataFrame'>\n",
      "RangeIndex: 40000 entries, 0 to 39999\n",
      "Data columns (total 2 columns):\n",
      " #   Column  Non-Null Count  Dtype \n",
      "---  ------  --------------  ----- \n",
      " 0   post    40000 non-null  object\n",
      " 1   tags    40000 non-null  object\n",
      "dtypes: object(2)\n",
      "memory usage: 625.1+ KB\n"
     ]
    }
   ],
   "source": [
    "data.info()"
   ]
  },
  {
   "cell_type": "code",
   "execution_count": 7,
   "metadata": {
    "colab": {
     "base_uri": "https://localhost:8080/",
     "height": 357
    },
    "colab_type": "code",
    "id": "dNOddJIZCM46",
    "outputId": "a23862b7-02de-4130-cb96-e0b0468faf75"
   },
   "outputs": [
    {
     "data": {
      "text/plain": [
       "['c#',\n",
       " 'asp.net',\n",
       " 'objective-c',\n",
       " '.net',\n",
       " 'python',\n",
       " 'angularjs',\n",
       " 'iphone',\n",
       " 'ruby-on-rails',\n",
       " 'ios',\n",
       " 'c',\n",
       " 'sql',\n",
       " 'java',\n",
       " 'jquery',\n",
       " 'css',\n",
       " 'c++',\n",
       " 'php',\n",
       " 'android',\n",
       " 'mysql',\n",
       " 'javascript',\n",
       " 'html']"
      ]
     },
     "execution_count": 7,
     "metadata": {
      "tags": []
     },
     "output_type": "execute_result"
    }
   ],
   "source": [
    "plt_tags = data.tags.unique().tolist()\n",
    "plt_tags"
   ]
  },
  {
   "cell_type": "code",
   "execution_count": 8,
   "metadata": {
    "colab": {
     "base_uri": "https://localhost:8080/",
     "height": 336
    },
    "colab_type": "code",
    "id": "D-K3hgc6DFZ7",
    "outputId": "673f7d85-ffe8-4b7f-957c-7fffe51b4cd7"
   },
   "outputs": [
    {
     "data": {
      "text/plain": [
       "<matplotlib.axes._subplots.AxesSubplot at 0x7f9fd4b91eb8>"
      ]
     },
     "execution_count": 8,
     "metadata": {
      "tags": []
     },
     "output_type": "execute_result"
    },
    {
     "data": {
      "image/png": "[encoded data removed]",
      "text/plain": [
       "<Figure size 432x288 with 1 Axes>"
      ]
     },
     "metadata": {
      "needs_background": "light",
      "tags": []
     },
     "output_type": "display_data"
    }
   ],
   "source": [
    "data.tags.value_counts().plot(kind='bar')"
   ]
  },
  {
   "cell_type": "code",
   "execution_count": 9,
   "metadata": {
    "colab": {
     "base_uri": "https://localhost:8080/",
     "height": 68
    },
    "colab_type": "code",
    "id": "s_fpQqClDWm4",
    "outputId": "51da1a76-1f0b-4bd9-afca-9d5d13584d7b"
   },
   "outputs": [
    {
     "name": "stdout",
     "output_type": "stream",
     "text": [
      "[nltk_data] Downloading package stopwords to /root/nltk_data...\n",
      "[nltk_data]   Package stopwords is already up-to-date!\n"
     ]
    },
    {
     "data": {
      "text/plain": [
       "True"
      ]
     },
     "execution_count": 9,
     "metadata": {
      "tags": []
     },
     "output_type": "execute_result"
    }
   ],
   "source": [
    "import nltk\n",
    "nltk.download('stopwords')"
   ]
  },
  {
   "cell_type": "code",
   "execution_count": 0,
   "metadata": {
    "colab": {},
    "colab_type": "code",
    "id": "lLSokp-QEIy1"
   },
   "outputs": [],
   "source": [
    "from nltk.corpus import stopwords\n",
    "stop_words = stopwords.words('english')"
   ]
  },
  {
   "cell_type": "code",
   "execution_count": 11,
   "metadata": {
    "colab": {
     "base_uri": "https://localhost:8080/",
     "height": 1000
    },
    "colab_type": "code",
    "id": "f1vNxNOREXBu",
    "outputId": "85c01b5c-bd07-4b3a-ddd9-788a72390738"
   },
   "outputs": [
    {
     "data": {
      "text/plain": [
       "['i',\n",
       " 'me',\n",
       " 'my',\n",
       " 'myself',\n",
       " 'we',\n",
       " 'our',\n",
       " 'ours',\n",
       " 'ourselves',\n",
       " 'you',\n",
       " \"you're\",\n",
       " \"you've\",\n",
       " \"you'll\",\n",
       " \"you'd\",\n",
       " 'your',\n",
       " 'yours',\n",
       " 'yourself',\n",
       " 'yourselves',\n",
       " 'he',\n",
       " 'him',\n",
       " 'his',\n",
       " 'himself',\n",
       " 'she',\n",
       " \"she's\",\n",
       " 'her',\n",
       " 'hers',\n",
       " 'herself',\n",
       " 'it',\n",
       " \"it's\",\n",
       " 'its',\n",
       " 'itself',\n",
       " 'they',\n",
       " 'them',\n",
       " 'their',\n",
       " 'theirs',\n",
       " 'themselves',\n",
       " 'what',\n",
       " 'which',\n",
       " 'who',\n",
       " 'whom',\n",
       " 'this',\n",
       " 'that',\n",
       " \"that'll\",\n",
       " 'these',\n",
       " 'those',\n",
       " 'am',\n",
       " 'is',\n",
       " 'are',\n",
       " 'was',\n",
       " 'were',\n",
       " 'be',\n",
       " 'been',\n",
       " 'being',\n",
       " 'have',\n",
       " 'has',\n",
       " 'had',\n",
       " 'having',\n",
       " 'do',\n",
       " 'does',\n",
       " 'did',\n",
       " 'doing',\n",
       " 'a',\n",
       " 'an',\n",
       " 'the',\n",
       " 'and',\n",
       " 'but',\n",
       " 'if',\n",
       " 'or',\n",
       " 'because',\n",
       " 'as',\n",
       " 'until',\n",
       " 'while',\n",
       " 'of',\n",
       " 'at',\n",
       " 'by',\n",
       " 'for',\n",
       " 'with',\n",
       " 'about',\n",
       " 'against',\n",
       " 'between',\n",
       " 'into',\n",
       " 'through',\n",
       " 'during',\n",
       " 'before',\n",
       " 'after',\n",
       " 'above',\n",
       " 'below',\n",
       " 'to',\n",
       " 'from',\n",
       " 'up',\n",
       " 'down',\n",
       " 'in',\n",
       " 'out',\n",
       " 'on',\n",
       " 'off',\n",
       " 'over',\n",
       " 'under',\n",
       " 'again',\n",
       " 'further',\n",
       " 'then',\n",
       " 'once',\n",
       " 'here',\n",
       " 'there',\n",
       " 'when',\n",
       " 'where',\n",
       " 'why',\n",
       " 'how',\n",
       " 'all',\n",
       " 'any',\n",
       " 'both',\n",
       " 'each',\n",
       " 'few',\n",
       " 'more',\n",
       " 'most',\n",
       " 'other',\n",
       " 'some',\n",
       " 'such',\n",
       " 'no',\n",
       " 'nor',\n",
       " 'not',\n",
       " 'only',\n",
       " 'own',\n",
       " 'same',\n",
       " 'so',\n",
       " 'than',\n",
       " 'too',\n",
       " 'very',\n",
       " 's',\n",
       " 't',\n",
       " 'can',\n",
       " 'will',\n",
       " 'just',\n",
       " 'don',\n",
       " \"don't\",\n",
       " 'should',\n",
       " \"should've\",\n",
       " 'now',\n",
       " 'd',\n",
       " 'll',\n",
       " 'm',\n",
       " 'o',\n",
       " 're',\n",
       " 've',\n",
       " 'y',\n",
       " 'ain',\n",
       " 'aren',\n",
       " \"aren't\",\n",
       " 'couldn',\n",
       " \"couldn't\",\n",
       " 'didn',\n",
       " \"didn't\",\n",
       " 'doesn',\n",
       " \"doesn't\",\n",
       " 'hadn',\n",
       " \"hadn't\",\n",
       " 'hasn',\n",
       " \"hasn't\",\n",
       " 'haven',\n",
       " \"haven't\",\n",
       " 'isn',\n",
       " \"isn't\",\n",
       " 'ma',\n",
       " 'mightn',\n",
       " \"mightn't\",\n",
       " 'mustn',\n",
       " \"mustn't\",\n",
       " 'needn',\n",
       " \"needn't\",\n",
       " 'shan',\n",
       " \"shan't\",\n",
       " 'shouldn',\n",
       " \"shouldn't\",\n",
       " 'wasn',\n",
       " \"wasn't\",\n",
       " 'weren',\n",
       " \"weren't\",\n",
       " 'won',\n",
       " \"won't\",\n",
       " 'wouldn',\n",
       " \"wouldn't\"]"
      ]
     },
     "execution_count": 11,
     "metadata": {
      "tags": []
     },
     "output_type": "execute_result"
    }
   ],
   "source": [
    "stop_words"
   ]
  },
  {
   "cell_type": "code",
   "execution_count": 0,
   "metadata": {
    "colab": {},
    "colab_type": "code",
    "id": "3L6C9YGQEhnP"
   },
   "outputs": [],
   "source": [
    "posts = data['post'].copy()"
   ]
  },
  {
   "cell_type": "code",
   "execution_count": 13,
   "metadata": {
    "colab": {
     "base_uri": "https://localhost:8080/",
     "height": 221
    },
    "colab_type": "code",
    "id": "XGRL-xiGEq-X",
    "outputId": "0a62c63d-786d-4cc0-c0a3-febd3fea1ec4"
   },
   "outputs": [
    {
     "data": {
      "text/plain": [
       "0        what is causing this behavior  in our c# datet...\n",
       "1        have dynamic html load as if it was in an ifra...\n",
       "2        how to convert a float value in to min:sec  i ...\n",
       "3        .net framework 4 redistributable  just wonderi...\n",
       "4        trying to calculate and print the mean and its...\n",
       "                               ...                        \n",
       "39995    different output if at end of function rather ...\n",
       "39996    multiple arrays  is there a way to access/stor...\n",
       "39997    c - how to differentiate a second same key pre...\n",
       "39998    state.go not working (#! & url is being append...\n",
       "39999    understanding the mechanisms of intentservice ...\n",
       "Name: post, Length: 40000, dtype: object"
      ]
     },
     "execution_count": 13,
     "metadata": {
      "tags": []
     },
     "output_type": "execute_result"
    }
   ],
   "source": [
    "posts"
   ]
  },
  {
   "cell_type": "code",
   "execution_count": 0,
   "metadata": {
    "colab": {},
    "colab_type": "code",
    "id": "zg2eSjG_Er6M"
   },
   "outputs": [],
   "source": []
  },
  {
   "cell_type": "code",
   "execution_count": 14,
   "metadata": {
    "colab": {
     "base_uri": "https://localhost:8080/",
     "height": 221
    },
    "colab_type": "code",
    "id": "kFhi5_mPG6ek",
    "outputId": "7af22912-061c-41ac-833d-c5be08335548"
   },
   "outputs": [
    {
     "data": {
      "text/plain": [
       "0        what is causing this behavior  in our c# datet...\n",
       "1        have dynamic html load as if it was in an ifra...\n",
       "2        how to convert a float value in to min:sec  i ...\n",
       "3        .net framework 4 redistributable  just wonderi...\n",
       "4        trying to calculate and print the mean and its...\n",
       "                               ...                        \n",
       "39995    different output if at end of function rather ...\n",
       "39996    multiple arrays  is there a way to access/stor...\n",
       "39997    c - how to differentiate a second same key pre...\n",
       "39998    state.go not working (#! & url is being append...\n",
       "39999    understanding the mechanisms of intentservice ...\n",
       "Name: post, Length: 40000, dtype: object"
      ]
     },
     "execution_count": 14,
     "metadata": {
      "tags": []
     },
     "output_type": "execute_result"
    }
   ],
   "source": [
    "posts"
   ]
  },
  {
   "cell_type": "code",
   "execution_count": 15,
   "metadata": {
    "colab": {
     "base_uri": "https://localhost:8080/",
     "height": 54
    },
    "colab_type": "code",
    "id": "oj7nMZJ0Hkuo",
    "outputId": "49b24e18-cdc0-4968-dbaf-ae3afeeab542"
   },
   "outputs": [
    {
     "data": {
      "text/plain": [
       "'what is causing this behavior  in our c# datetime type  <pre><code>[test] public void sadness() {    var datetime = datetime.utcnow;    assert.that(datetime  is.equalto(datetime.parse(datetime.tostring()))); } </code></pre>   failed :   <pre><code> expected: 2011-10-31 06:12:44.000  but was:  2011-10-31 06:12:44.350 </code></pre>   i wish to know what is happening behind the scenes in tostring() etc to cause this behavior.    edit after seeing jon s answer :   <pre><code>[test] public void newsadness() {     var datetime = datetime.utcnow;     assert.that(datetime  is.equalto(datetime.parse(datetime.tostring( o )))); } </code></pre>   result :   <pre><code>expected: 2011-10-31 12:03:04.161 but was:  2011-10-31 06:33:04.161 </code></pre>   same result with capital and small  o  . i m reading up the docs  but still unclear.'"
      ]
     },
     "execution_count": 15,
     "metadata": {
      "tags": []
     },
     "output_type": "execute_result"
    }
   ],
   "source": [
    "posts[0]"
   ]
  },
  {
   "cell_type": "code",
   "execution_count": 0,
   "metadata": {
    "colab": {},
    "colab_type": "code",
    "id": "fzPEk1VIIMPi"
   },
   "outputs": [],
   "source": [
    "import re\n",
    "pattern1 = re.compile('[^0-9a-z#+_]')\n",
    "pattern = re.compile('[/(){}\\[\\]\\|@,;]')"
   ]
  },
  {
   "cell_type": "code",
   "execution_count": 0,
   "metadata": {
    "colab": {},
    "colab_type": "code",
    "id": "2nJrx2GaJRnO"
   },
   "outputs": [],
   "source": [
    "posts= posts.apply(lambda x: pattern.sub(' ',x))\n",
    "posts = posts.apply(lambda x: pattern1.sub(\" \",x))\n",
    "posts = posts.apply(lambda x: ' '.join([word.lower() for word in x.split() if not word in stop_words]))"
   ]
  },
  {
   "cell_type": "code",
   "execution_count": 18,
   "metadata": {
    "colab": {
     "base_uri": "https://localhost:8080/",
     "height": 54
    },
    "colab_type": "code",
    "id": "7lCoJIBTJ3eH",
    "outputId": "deaa3cf1-3d5c-4870-8296-44353804e164"
   },
   "outputs": [
    {
     "data": {
      "text/plain": [
       "'need interface c# blockquote strong possible duplicate strong br href https stackoverflow com questions 240152 would want use interfaces would want use interfaces href https stackoverflow com questions 9451868 need interface need interface blockquote want know use example pre code interface idemo function prototype public void show first class using interface class myclass1 idemo public void show function body comes response write myclass second class using interface class myclass2 idemo public void show function body comes response write myclass2 response write code pre two classes function name different body even achieved without interface need interface use'"
      ]
     },
     "execution_count": 18,
     "metadata": {
      "tags": []
     },
     "output_type": "execute_result"
    }
   ],
   "source": [
    "posts[10]"
   ]
  },
  {
   "cell_type": "code",
   "execution_count": 19,
   "metadata": {
    "colab": {
     "base_uri": "https://localhost:8080/",
     "height": 221
    },
    "colab_type": "code",
    "id": "d9IkBzI1LapH",
    "outputId": "46b3bb1b-e5b6-457c-942c-f96344596b12"
   },
   "outputs": [
    {
     "data": {
      "text/plain": [
       "0        causing behavior c# datetime type pre code tes...\n",
       "1        dynamic html load iframe asp net 4 0 site user...\n",
       "2        convert float value min sec trying convert sec...\n",
       "3        net framework 4 redistributable wondering get ...\n",
       "4        trying calculate print mean returning function...\n",
       "                               ...                        \n",
       "39995    different output end function rather main func...\n",
       "39996    multiple arrays way access store multiple arra...\n",
       "39997    c differentiate second key press using c would...\n",
       "39998    state go working # url appended end url login ...\n",
       "39999    understanding mechanisms intentservice trying ...\n",
       "Name: post, Length: 40000, dtype: object"
      ]
     },
     "execution_count": 19,
     "metadata": {
      "tags": []
     },
     "output_type": "execute_result"
    }
   ],
   "source": [
    "posts"
   ]
  },
  {
   "cell_type": "code",
   "execution_count": 20,
   "metadata": {
    "colab": {
     "base_uri": "https://localhost:8080/",
     "height": 34
    },
    "colab_type": "code",
    "id": "iGuJGegQLdNB",
    "outputId": "8ec87171-7bfa-4ef6-9714-daece8d97bb1"
   },
   "outputs": [
    {
     "data": {
      "text/plain": [
       "4600038"
      ]
     },
     "execution_count": 20,
     "metadata": {
      "tags": []
     },
     "output_type": "execute_result"
    }
   ],
   "source": [
    "posts.apply(lambda x: len(x.split(' '))).sum()"
   ]
  },
  {
   "cell_type": "code",
   "execution_count": 0,
   "metadata": {
    "colab": {},
    "colab_type": "code",
    "id": "4MYgmjhRPjPw"
   },
   "outputs": [],
   "source": [
    "corpus = []\n",
    "for i in range(len(posts)):\n",
    "  corpus.append(posts[i])"
   ]
  },
  {
   "cell_type": "code",
   "execution_count": 46,
   "metadata": {
    "colab": {
     "base_uri": "https://localhost:8080/",
     "height": 54
    },
    "colab_type": "code",
    "id": "cVOieXuyXpTk",
    "outputId": "7d873af6-53f6-4e54-8935-ea0e6e212aad"
   },
   "outputs": [
    {
     "data": {
      "text/plain": [
       "'dynamic html load iframe asp net 4 0 site users save entire html page backend database want load dynamic content div existing page content area couple things happen want css affect anything outside div first trying loading badly formed html would move images divs outside content area around lot html pages use base tag images links want base tag respected inside div solution going try use iframe set url another child page loads dynamic html page entirely wondering better solution'"
      ]
     },
     "execution_count": 46,
     "metadata": {
      "tags": []
     },
     "output_type": "execute_result"
    }
   ],
   "source": [
    "corpus[1]"
   ]
  },
  {
   "cell_type": "code",
   "execution_count": 0,
   "metadata": {
    "colab": {},
    "colab_type": "code",
    "id": "6IfEwbeMP6GR"
   },
   "outputs": [],
   "source": [
    "from sklearn.model_selection import train_test_split"
   ]
  },
  {
   "cell_type": "code",
   "execution_count": 28,
   "metadata": {
    "colab": {
     "base_uri": "https://localhost:8080/",
     "height": 221
    },
    "colab_type": "code",
    "id": "Zj9CnptzYINu",
    "outputId": "61d5a2a8-6684-4287-eef4-600de0b7ea1b"
   },
   "outputs": [
    {
     "data": {
      "text/plain": [
       "0                 c#\n",
       "1            asp.net\n",
       "2        objective-c\n",
       "3               .net\n",
       "4             python\n",
       "            ...     \n",
       "39995            c++\n",
       "39996         iphone\n",
       "39997              c\n",
       "39998      angularjs\n",
       "39999        android\n",
       "Name: tags, Length: 40000, dtype: object"
      ]
     },
     "execution_count": 28,
     "metadata": {
      "tags": []
     },
     "output_type": "execute_result"
    }
   ],
   "source": [
    "y = data.tags\n",
    "y"
   ]
  },
  {
   "cell_type": "code",
   "execution_count": 0,
   "metadata": {
    "colab": {},
    "colab_type": "code",
    "id": "J8b2zqKYX3Nr"
   },
   "outputs": [],
   "source": [
    "x_train,x_test,y_train,y_test = train_test_split(corpus,y,test_size=0.33,random_state=42)"
   ]
  },
  {
   "cell_type": "code",
   "execution_count": 0,
   "metadata": {
    "colab": {},
    "colab_type": "code",
    "id": "992n8IFuYp96"
   },
   "outputs": [],
   "source": [
    "y = data.tags\n",
    "y"
   ]
  },
  {
   "cell_type": "markdown",
   "metadata": {
    "colab_type": "text",
    "id": "xVsrJxe0Yu9F"
   },
   "source": [
    "## Multinomial NB"
   ]
  },
  {
   "cell_type": "code",
   "execution_count": 33,
   "metadata": {
    "colab": {
     "base_uri": "https://localhost:8080/",
     "height": 493
    },
    "colab_type": "code",
    "id": "Ped4_C2iLzBO",
    "outputId": "b38c3533-26e8-4222-8bfa-5e230db9739f"
   },
   "outputs": [
    {
     "name": "stdout",
     "output_type": "stream",
     "text": [
      "accuracy 0.7356060606060606\n",
      "               precision    recall  f1-score   support\n",
      "\n",
      "           c#       0.66      0.61      0.64       679\n",
      "      asp.net       0.93      0.85      0.89       687\n",
      "  objective-c       0.86      0.93      0.90       659\n",
      "         .net       0.69      0.81      0.74       642\n",
      "       python       0.73      0.87      0.80       654\n",
      "    angularjs       0.70      0.55      0.62       655\n",
      "       iphone       0.80      0.78      0.79       657\n",
      "ruby-on-rails       0.64      0.91      0.75       666\n",
      "          ios       0.57      0.56      0.57       669\n",
      "            c       0.58      0.66      0.62       650\n",
      "          sql       0.72      0.49      0.58       660\n",
      "         java       0.84      0.76      0.80       668\n",
      "       jquery       0.82      0.56      0.67       678\n",
      "          css       0.66      0.80      0.72       647\n",
      "          c++       0.61      0.84      0.71       644\n",
      "          php       0.67      0.65      0.66       630\n",
      "      android       0.77      0.74      0.75       641\n",
      "        mysql       0.89      0.83      0.86       662\n",
      "   javascript       0.95      0.88      0.91       688\n",
      "         html       0.77      0.61      0.68       664\n",
      "\n",
      "     accuracy                           0.74     13200\n",
      "    macro avg       0.74      0.74      0.73     13200\n",
      " weighted avg       0.74      0.74      0.73     13200\n",
      "\n"
     ]
    }
   ],
   "source": [
    "from sklearn.naive_bayes import MultinomialNB\n",
    "from sklearn.pipeline import Pipeline\n",
    "from sklearn.feature_extraction.text import TfidfTransformer,CountVectorizer\n",
    "from sklearn.metrics import accuracy_score\n",
    "nb = Pipeline([('vect', CountVectorizer()),\n",
    "               ('tfidf', TfidfTransformer()),\n",
    "               ('clf', MultinomialNB()),\n",
    "              ])\n",
    "nb.fit(x_train, y_train)\n",
    "\n",
    "# %%time\n",
    "from sklearn.metrics import classification_report\n",
    "y_pred = nb.predict(x_test)\n",
    "\n",
    "print('accuracy %s' % accuracy_score(y_pred, y_test))\n",
    "print(classification_report(y_test, y_pred,target_names=data.tags.unique().tolist()))"
   ]
  },
  {
   "cell_type": "code",
   "execution_count": 0,
   "metadata": {
    "colab": {},
    "colab_type": "code",
    "id": "mfPi46ZPZAwL"
   },
   "outputs": [],
   "source": []
  },
  {
   "cell_type": "markdown",
   "metadata": {
    "colab_type": "text",
    "id": "FdBtMR6RZBTk"
   },
   "source": [
    "# SVM"
   ]
  },
  {
   "cell_type": "code",
   "execution_count": 39,
   "metadata": {
    "colab": {
     "base_uri": "https://localhost:8080/",
     "height": 493
    },
    "colab_type": "code",
    "id": "ZRmClM5DRQVc",
    "outputId": "b9f53ee4-0925-4752-cbcd-7de0f4e4fa12"
   },
   "outputs": [
    {
     "name": "stdout",
     "output_type": "stream",
     "text": [
      "accuracy 0.7872727272727272\n",
      "               precision    recall  f1-score   support\n",
      "\n",
      "           c#       0.76      0.65      0.70       679\n",
      "      asp.net       0.86      0.93      0.90       687\n",
      "  objective-c       0.88      0.98      0.92       659\n",
      "         .net       0.78      0.84      0.81       642\n",
      "       python       0.75      0.88      0.81       654\n",
      "    angularjs       0.79      0.43      0.55       655\n",
      "       iphone       0.80      0.71      0.75       657\n",
      "ruby-on-rails       0.65      0.93      0.77       666\n",
      "          ios       0.82      0.49      0.62       669\n",
      "            c       0.74      0.57      0.65       650\n",
      "          sql       0.72      0.67      0.69       660\n",
      "         java       0.81      0.87      0.84       668\n",
      "       jquery       0.81      0.76      0.78       678\n",
      "          css       0.85      0.83      0.84       647\n",
      "          c++       0.83      0.79      0.81       644\n",
      "          php       0.69      0.69      0.69       630\n",
      "      android       0.77      0.92      0.84       641\n",
      "        mysql       0.82      0.96      0.89       662\n",
      "   javascript       0.87      0.95      0.91       688\n",
      "         html       0.78      0.88      0.82       664\n",
      "\n",
      "     accuracy                           0.79     13200\n",
      "    macro avg       0.79      0.79      0.78     13200\n",
      " weighted avg       0.79      0.79      0.78     13200\n",
      "\n"
     ]
    }
   ],
   "source": [
    "from sklearn.linear_model import SGDClassifier\n",
    "svm = Pipeline([('vect', CountVectorizer()),\n",
    "               ('tfidf', TfidfTransformer()),\n",
    "               ('clf', SGDClassifier(loss='hinge', penalty='l2',alpha=1e-3, random_state=42, max_iter=5, tol=None)),\n",
    "              ])\n",
    "svm.fit(x_train, y_train)\n",
    "\n",
    "# %%time\n",
    "from sklearn.metrics import classification_report\n",
    "y_pred = svm.predict(x_test)\n",
    "\n",
    "print('accuracy %s' % accuracy_score(y_pred, y_test))\n",
    "print(classification_report(y_test, y_pred,target_names=data.tags.unique().tolist()))"
   ]
  },
  {
   "cell_type": "code",
   "execution_count": 0,
   "metadata": {
    "colab": {},
    "colab_type": "code",
    "id": "txjA3dWDa5Dd"
   },
   "outputs": [],
   "source": [
    "from sklearn.externals import joblib"
   ]
  },
  {
   "cell_type": "code",
   "execution_count": 43,
   "metadata": {
    "colab": {
     "base_uri": "https://localhost:8080/",
     "height": 34
    },
    "colab_type": "code",
    "id": "E0SDSAJIbvXT",
    "outputId": "214cac0b-0bc3-4507-b1e6-042ca618699f"
   },
   "outputs": [
    {
     "data": {
      "text/plain": [
       "['model.joblib']"
      ]
     },
     "execution_count": 43,
     "metadata": {
      "tags": []
     },
     "output_type": "execute_result"
    }
   ],
   "source": [
    "joblib.dump(svm, 'model.joblib')"
   ]
  },
  {
   "cell_type": "code",
   "execution_count": 0,
   "metadata": {
    "colab": {},
    "colab_type": "code",
    "id": "lzBK5mXVbzp_"
   },
   "outputs": [],
   "source": [
    "pipe = joblib.load('model.joblib')"
   ]
  },
  {
   "cell_type": "code",
   "execution_count": 0,
   "metadata": {
    "colab": {},
    "colab_type": "code",
    "id": "WjSnGkr_cfRk"
   },
   "outputs": [],
   "source": [
    "data ='dynamic html load iframe asp net 4 0 site users save entire html page backend database want load dynamic content div existing page content area couple things happen want css affect anything outside div first trying loading badly formed html would move images divs outside content area around lot html pages use base tag images links want base tag respected inside div solution going try use iframe set url another child page loads dynamic html page entirely wondering better solution'"
   ]
  },
  {
   "cell_type": "code",
   "execution_count": 0,
   "metadata": {
    "colab": {},
    "colab_type": "code",
    "id": "9vVDTCXrdc5C"
   },
   "outputs": [],
   "source": [
    "input_data = []\n",
    "input_data.append(data)"
   ]
  },
  {
   "cell_type": "code",
   "execution_count": 52,
   "metadata": {
    "colab": {
     "base_uri": "https://localhost:8080/",
     "height": 54
    },
    "colab_type": "code",
    "id": "Hj2IydZgdiED",
    "outputId": "926a827d-b2ee-45e1-a14e-7568d0dce0e4"
   },
   "outputs": [
    {
     "data": {
      "text/plain": [
       "['dynamic html load iframe asp net 4 0 site users save entire html page backend database want load dynamic content div existing page content area couple things happen want css affect anything outside div first trying loading badly formed html would move images divs outside content area around lot html pages use base tag images links want base tag respected inside div solution going try use iframe set url another child page loads dynamic html page entirely wondering better solution']"
      ]
     },
     "execution_count": 52,
     "metadata": {
      "tags": []
     },
     "output_type": "execute_result"
    }
   ],
   "source": [
    "input_data"
   ]
  },
  {
   "cell_type": "code",
   "execution_count": 55,
   "metadata": {
    "colab": {
     "base_uri": "https://localhost:8080/",
     "height": 34
    },
    "colab_type": "code",
    "id": "Ew-JhdsecwEd",
    "outputId": "9dc0d9d0-a8a1-496b-a1a1-d9b3d29b4656"
   },
   "outputs": [
    {
     "data": {
      "text/plain": [
       "'asp.net'"
      ]
     },
     "execution_count": 55,
     "metadata": {
      "tags": []
     },
     "output_type": "execute_result"
    }
   ],
   "source": [
    "pipe.predict(input_data)[0]"
   ]
  },
  {
   "cell_type": "code",
   "execution_count": 0,
   "metadata": {
    "colab": {},
    "colab_type": "code",
    "id": "h4Wtp2YUc4Eq"
   },
   "outputs": [],
   "source": []
  }
 ],
 "metadata": {
  "colab": {
   "collapsed_sections": [],
   "name": "StackOverflow.ipynb",
   "provenance": []
  },
  "kernelspec": {
   "display_name": "Python 3",
   "language": "python",
   "name": "python3"
  },
  "language_info": {
   "codemirror_mode": {
    "name": "ipython",
    "version": 3
   },
   "file_extension": ".py",
   "mimetype": "text/x-python",
   "name": "python",
   "nbconvert_exporter": "python",
   "pygments_lexer": "ipython3",
   "version": "3.7.7"
  }
 },
 "nbformat": 4,
 "nbformat_minor": 1
}
